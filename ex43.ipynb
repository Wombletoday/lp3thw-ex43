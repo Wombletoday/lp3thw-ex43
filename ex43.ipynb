{
 "cells": [
  {
   "cell_type": "markdown",
   "id": "269b6165-83c7-40d4-8ac0-733ba1a54652",
   "metadata": {},
   "source": [
    "#Basic Object-Oriented Analysis and Design"
   ]
  },
  {
   "cell_type": "markdown",
   "id": "4bc62bd9-7e81-451d-a44a-b296daab2856",
   "metadata": {},
   "source": [
    "I’m going to describe a process to use when you want to build something using Python, specifically with object-oriented programming (OOP). What I mean by a ”process” is that I’ll give you a set of steps that you do in order but that you aren’t meant to be a slave to or that will totally always work for every problem. They are just a good starting point for many programming problems and shouldn’t be considered the only way to solve these types of problems. This process is just one way to do it that you can follow.\n",
    "The process is as follows:\n",
    "1. Write or draw about the problem.\n",
    "2. Extract key concepts from 1 and research them.\n",
    "3. Create a class hierarchy and object map for the concepts. \n",
    "4. Code the classes and a test to run them.\n",
    "5. Repeat and refine.\n",
    "The way to look at this process is that it is ”top down,” meaning it starts from the very abstract loose idea and then slowly refines it until the idea is solid and something you can code.\n",
    "I start by just writing about the problem and trying to think up anything I can about it. Maybe I’ll even draw a diagram or two, maybe a map of some kind, or even write myself a series of emails describing the problem. This gives me a way to express the key concepts in the problem and also explore what I might already know about it.\n",
    "\n",
    "Then I go through these notes, drawings, and descriptions, and I pull out the key concepts. There’s a simple trick to doing this: Simply make a list of all the nouns and verbs in your writing and drawings, then write out how they’re related. This gives me a good list of names for classes, objects, and functions in the next step. I take this list of concepts and then research any that I don’t understand so I can refine them further if needed.\n",
    "\n",
    "Once I have my list of concepts I create a simple outline/tree of the concepts and how they are related as classes. You can usually take your list of nouns and start asking ”Is this one like other concept nouns? That means they have a common parent class, so what is it called?” Keep doing this until you have a class hierarchy that’s just a simple tree list or a diagram. Then take the verbs you have and see if those are function names for each class and put them in your tree.\n",
    "\n",
    "With this class hierarchy figured out, I sit down and write some basic skeleton code that has just the classes, their functions, and nothing more. I then write a test that runs this code and makes sure the classes I’ve made make sense and work right. Sometimes I may write the test first though, and other times I might write a little test, a little code, a little test, etc. until I have the whole thing built.\n",
    "\n",
    "Finally, I keep cycling over this process repeating it and refining as I go and making it as clear as I can before doing more implementation. If I get stuck at any particular part because of a concept or problem I haven’t anticipated, then I sit down and start the process over on just that part to figure it out more before continuing.\n",
    "\n",
    "I will now go through this process while coming up with a game engine and a game for this exercise.\n"
   ]
  },
  {
   "cell_type": "markdown",
   "id": "fb355aeb-03f2-4866-8800-fa74c767bb2b",
   "metadata": {},
   "source": [
    "The Analysis of a Simple Game Engine"
   ]
  },
  {
   "cell_type": "markdown",
   "id": "3fd4271f-c159-45d6-9087-cf7767e68c8b",
   "metadata": {},
   "source": [
    "The game I want to make is called ”Gothons from Planet Percal #25,” and it will be a small space ad- venture game. With nothing more than that concept in my mind, I can explore the idea and figure out how to make the game come to life."
   ]
  },
  {
   "cell_type": "markdown",
   "id": "86a6ab48-2041-4869-92ed-8a07e8a1645b",
   "metadata": {},
   "source": [
    "43.1.1 Write or Draw About the Problem"
   ]
  },
  {
   "cell_type": "markdown",
   "id": "ab614ac6-4b10-46ef-a954-76191dcfd337",
   "metadata": {},
   "source": [
    "I’m going to write a little paragraph for the game:\n",
    "\n",
    "”Aliens have invaded a space ship and our hero has to go through a maze of rooms defeating them so he can escape into an escape pod to the planet below. The game will be more like a Zork or Adventure type game with text outputs and funny ways to die. The game will involve an engine that runs a map full of rooms or scenes. Each room will print its own description when the player enters it and then tell the engine what room to run next out of the map.”\n",
    "\n",
    "At this point I have a good idea for the game and how it would run, so now I want to describe each scene:\n",
    "\n",
    "Death This is when the player dies and should be something funny.\n",
    "\n",
    "Central Corridor This is the starting point and has a Gothon already standing there that the players have\n",
    "to defeat with a joke before continuing.\n",
    "\n",
    "Laser Weapon Armory This is where the hero gets a neutron bomb to blow up the ship before getting to the escape pod. It has a keypad the hero has to guess the number for.\n",
    "\n",
    "The Bridge Another battle scene with a Gothon where the hero places the bomb. Escape Pod Where the hero escapes but only after guessing the right escape pod.\n",
    "\n",
    "At this point I might draw out a map of these, maybe write more descriptions of each room—whatever comes to mind as I explore the problem."
   ]
  },
  {
   "cell_type": "markdown",
   "id": "cfb1f6e7-0c80-41f0-84ca-105f37e50be2",
   "metadata": {},
   "source": [
    "43.1.2 Extract Key Concepts and Research Them"
   ]
  },
  {
   "cell_type": "markdown",
   "id": "9122a20d-ccbd-487a-8c17-27e233d36fa4",
   "metadata": {},
   "source": [
    "I now have enough information to extract some of the nouns and analyze their class hierarchy. First I make a list of all the nouns:\n",
    "\n",
    "• Alien\n",
    "• Player\n",
    "• Ship\n",
    "• Maze\n",
    "• Room\n",
    "• Scene\n",
    "• Gothon\n",
    "• Escape Pod\n",
    "• Planet\n",
    "• Map\n",
    "• Engine\n",
    "• Death\n",
    "• Central Corridor\n",
    "• Laser Weapon Armory \n",
    "• The Bridge\n",
    "\n",
    "I would also possibly go through all the verbs and see if they are anything that might be good function names, but I’ll skip that for now.\n",
    "\n",
    "At this point you might also research each of these concepts and anything you don’t know right now. For example, I might play a few of these types of games and make sure I know how they work. I might research how ships are designed or how bombs work. Maybe I’ll research some technical issue like how to store the game’s state in a database. After I’ve done this research I might start over at step 1 based on new information I have and rewrite my description and extract new concepts."
   ]
  },
  {
   "cell_type": "markdown",
   "id": "5c766363-af10-4630-b028-5b1376097489",
   "metadata": {},
   "source": [
    "43.1.3 Create a Class Hierarchy and Object Map for the Concepts"
   ]
  },
  {
   "cell_type": "markdown",
   "id": "00d4e9a9-c438-42cd-85b2-db846d8bef40",
   "metadata": {},
   "source": [
    "Once I have that I turn it into a class hierarchy by asking ”What is similar to other things?” I also ask ”What is basically just another word for another thing?”\n",
    "\n",
    "Right away I see that ”Room” and ”Scene” are basically the same thing depending on how I want to do things. I’m going to pick ”Scene” for this game. Then I see that all the specific rooms like ”Central Corridor” are basically just Scenes. I see also that Death is basically a Scene, which confirms my choice of ”Scene” over ”Room” since you can have a death scene, but a death room is kind of odd. ”Maze” and ”Map” are basically the same so I’m going to go with ”Map” since I used it more often. I don’t want to do a battle system, so I’m going to ignore ”Alien” and ”Player” and save that for later. The ”Planet” could also just be another scene instead of something specific.\n",
    "\n",
    "After all of that thought process I start to make a class hierarchy that looks like this in my text editor:\n",
    "\n",
    "* Map\n",
    "* Engine\n",
    "* Scene\n",
    "  * Death\n",
    "  * Central Corridor\n",
    "  * Laser Weapon Armory * The Bridge\n",
    "  * Escape Pod\n",
    "  \n",
    "I would then go through and figure out what actions are needed on each thing based on verbs in the description. For example, I know from the description I’m going to need a way to ”run” the engine, ”get the next scene” from the map, get the ”opening scene,” and ”enter” a scene. I’ll add those like this:\n",
    "\n",
    "* Map\n",
    "  − next_scene\n",
    "  − opening_scene\n",
    "* Engine \n",
    "   − play\n",
    "* Scene\n",
    "   − enter\n",
    "* Death\n",
    "* Central Corridor\n",
    "* Laser Weapon Armory * The Bridge\n",
    "* Escape Pod\n",
    "\n",
    "Notice how I just put -enter under Scene since I know that all the scenes under it will inherit it and have to override it later.\n"
   ]
  },
  {
   "cell_type": "markdown",
   "id": "dccace7c-8034-40cf-b712-c8ad293b704a",
   "metadata": {},
   "source": [
    "43.1.4 Code the Classes and a Test to Run Them"
   ]
  },
  {
   "cell_type": "markdown",
   "id": "045ce97f-ebbc-4d22-b213-50c35db3fdbf",
   "metadata": {},
   "source": [
    "Once I have this tree of classes and some of the functions I open up a source file in my editor and try to write the code for it. Usually I’ll just copy-paste the tree into the source file and then edit it into classes. Here’s a small example of how this might look at first, with a simple little test at the end of the file."
   ]
  },
  {
   "cell_type": "code",
   "execution_count": 4,
   "id": "26443673-721a-4095-9cfc-22b0ab5ac0ec",
   "metadata": {},
   "outputs": [],
   "source": [
    "class Scene(object):\n",
    "    \n",
    "    def enter(self):\n",
    "        pass\n",
    "    \n",
    "    \n",
    "class Engine(object):\n",
    "    \n",
    "    def __init__(self, scene_map):\n",
    "        pass\n",
    "    \n",
    "    def play(self):\n",
    "        pass\n",
    "    \n",
    "class Death(Scene):\n",
    "    \n",
    "    def enter(self):\n",
    "        pass\n",
    "    \n",
    "class CentralCorridor(Scene):\n",
    "    \n",
    "    def enter(self):\n",
    "        pass\n",
    "    \n",
    "class LaserWeaponArnory(Scene):\n",
    "    \n",
    "    def enter(self):\n",
    "        pass\n",
    "    \n",
    "class TheBridge(Scene):\n",
    "    \n",
    "    def enter(self):\n",
    "        pass\n",
    "    \n",
    "class EscapePod(Scene):\n",
    "    \n",
    "    def enter(self):\n",
    "        pass\n",
    "    \n",
    "\n",
    "class Map(object):\n",
    "    \n",
    "    def __init__(self, start_scene):\n",
    "        pass\n",
    "    \n",
    "    def next_scene(self, scene_name):\n",
    "        pass\n",
    "    \n",
    "    def opening_scene(self):\n",
    "        pass\n",
    "    \n",
    "    \n",
    "a_map = Map('central_corridor')\n",
    "a_game = Engine(a_map)\n",
    "a_game.play()"
   ]
  },
  {
   "cell_type": "markdown",
   "id": "b0d0f9a5-96ac-4bcf-98d1-3dfedaa38a3e",
   "metadata": {},
   "source": [
    "In this file you can see that I simply replicated the hierarchy I wanted and then added a little bit of code at the end to run it and see if it all works in this basic structure. In the later sections of this exercise you’ll fill in the rest of this code and make it work to match the description of the game."
   ]
  },
  {
   "cell_type": "markdown",
   "id": "320a5e8c-21d8-406d-b759-a998443ead9c",
   "metadata": {},
   "source": [
    "43.1.5 Repeat and Refine"
   ]
  },
  {
   "cell_type": "markdown",
   "id": "1497da26-6ed4-42ec-bc80-6ecebc89d8c0",
   "metadata": {},
   "source": [
    "The last step in my little process isn’t so much a step as it is a while-loop. You don’t ever do this as a one- pass operation. Instead you go back over the whole process again and refine it based on information you’ve learned from later steps. Sometimes I’ll get to step 3 and realize that I need to work on 1 and 2 more, so I’ll stop and go back and work on those. Sometimes I’ll get a flash of inspiration and jump to the end to code up the solution in my head while I have it there, but then I’ll go back and do the previous steps to make sure I cover all the possibilities I have.\n",
    "\n",
    "The other idea in this process is that it’s not just something you do at one single level but something that you can do at every level when you run into a particular problem. Let’s say I don’t know how to write the Engine.play method yet. I can stop and do this whole process on just that one function to figure out how to write it."
   ]
  },
  {
   "cell_type": "markdown",
   "id": "54fc9284-8cec-4b35-abcc-d4598c1ba3bb",
   "metadata": {},
   "source": [
    "Top Down versus Bottom Up"
   ]
  },
  {
   "cell_type": "markdown",
   "id": "a29cab1e-2179-490b-be59-5b4984adea96",
   "metadata": {},
   "source": [
    "The process is typically labeled ”top down” since it starts at the most abstract concepts (the top) and works its way down to actual implementation. I want you to use this process I just described when analyzing problems in the book from now on, but you should know that there’s another way to solve problems in programming that starts with code and goes ”up” to the abstract concepts. This other way is labeled ”bottom up.” Here are the general steps you follow to do this:\n",
    "\n",
    "1. Take a small piece of the problem; hack on some code and get it to run barely. \n",
    "2. Refine the code into something more formal with classes and automated tests. \n",
    "3. Extract the key concepts you’re using and try to find research for them.\n",
    "4. Write a description of what’s really going on.\n",
    "5. Go back and refine the code, possibly throwing it out and starting over. 6. Repeat, moving on to some other piece of the problem.\n",
    "\n",
    "I find this process is better once you’re more solid at programming and are naturally thinking in code about problems. This process is very good when you know small pieces of the overall puzzle, but maybe don’t have enough information yet about the overall concept. Breaking it down in little pieces and exploring with code then helps you slowly grind away at the problem until you’ve solved it. However, remember that your solution will probably be meandering and weird, so that’s why my version of this process involves going back and finding research, then cleaning things up based on what you’ve learned.\n",
    "\n"
   ]
  },
  {
   "cell_type": "markdown",
   "id": "c4349fce-4504-414f-8342-bd92e49fb76a",
   "metadata": {},
   "source": [
    "The Code for ”Gothons from Planet Percal #25”"
   ]
  },
  {
   "cell_type": "markdown",
   "id": "733ba768-2f38-4006-868d-660dca529fb8",
   "metadata": {},
   "source": [
    "Stop! I’m going to show you my final solution to the preceding problem, but I don’t want you to just jump in and type this up. I want you to take the rough skeleton code I did and try to make it work based on the description. Once you have your solution then you can come back and see how I did it.\n",
    "I’m going to break this final file ex43.py down into sections and explain each one rather than dump all the code at once."
   ]
  },
  {
   "cell_type": "code",
   "execution_count": null,
   "id": "0faa86da-5d57-464c-8e92-3b05eb1a5bed",
   "metadata": {},
   "outputs": [],
   "source": [
    "from sys import exit\n",
    "from random import randint\n",
    "from textwrap import dedent"
   ]
  },
  {
   "cell_type": "markdown",
   "id": "5a525714-4c62-4eea-b7b5-f0183e4c83fb",
   "metadata": {},
   "source": [
    "This is just our basic imports for the game. The only new thing is the import of the dedent function from the textwrap module. This little function will help us write our room descriptions using \"\"\" (triple- quote) strings. It simply strips leading white-space from the beginning of lines in a string. Without this function using \"\"\" style strings fails because they are indented on the screen the same level as in the Python code."
   ]
  },
  {
   "cell_type": "code",
   "execution_count": 1,
   "id": "df79b806-739c-40c9-9d1e-3f4f91de94a1",
   "metadata": {},
   "outputs": [],
   "source": [
    "class Scene(object):\n",
    "    \n",
    "    def enter(self):\n",
    "        print(\"This scene is not yet configured.\")\n",
    "        print(\"Subclass it and implement enter()\")\n",
    "        exit(1)"
   ]
  },
  {
   "cell_type": "markdown",
   "id": "e3d331a1-011d-4a61-862e-dd39e4cf0d38",
   "metadata": {},
   "source": [
    "As you saw in the skeleton code, I have a base class for Scene that will have the common things that all scenes do. In this simple program they don’t do much, so this is more a demonstration of what you would do to make a base class."
   ]
  },
  {
   "cell_type": "code",
   "execution_count": null,
   "id": "f9121064-cab7-488d-9139-46e365648d01",
   "metadata": {},
   "outputs": [],
   "source": [
    "class Engine(object):\n",
    "    \n",
    "    def __init__(self, scene_map):\n",
    "\t\tself.scene_map = scene.map\n",
    "        pass\n",
    "    \n",
    "    def play(self):\n",
    "\t\tcurrent_scene = self.scene_map.opening_scene()\n",
    "\t\tlast_scene = self.scene_map.next_scene('finished')\n",
    "\t\t\n",
    "\t\twhile current_scene != last_scene:\n",
    "\t\t\tnext_scene_name = current_scen e.enter()\n",
    "\t\t\tcurrent_scene = self.scene_map.next_scene(next_scene_name)\n",
    "\t\t\t\n",
    "\t\t# be sure to print out last scene"
   ]
  },
  {
   "cell_type": "markdown",
   "id": "b0f77002-4bf8-4146-b5c6-2d6b0b8230e4",
   "metadata": {},
   "source": [
    "I also have my Engine class, and you can see how I’m already using the methods for Map.opening_scene and Map.next_scene. Because I’ve done a bit of planning I can just assume I’ll write those and then use them before I’ve written the Map class."
   ]
  },
  {
   "cell_type": "code",
   "execution_count": null,
   "id": "180c50e9-495d-4f63-a571-6cffc60aad16",
   "metadata": {},
   "outputs": [],
   "source": [
    "class Death(Scene):\n",
    "    \n",
    "    quips = [\n",
    "        \"You died.  You kinda suck at this.\",\n",
    "        \"Your Mom would be proud.... if she were smarter.\",\n",
    "        \"Such a luser\",\n",
    "        \"I have a small puppy that's better at this.\",\n",
    "        \"You're worse than your Da's jokes.\"\n",
    "    ]\n",
    "    \n",
    "    def enter(self):\n",
    "        print(Death.quips[randint(0, len(self.quips)-1)])\n",
    "        exit(1)"
   ]
  },
  {
   "cell_type": "markdown",
   "id": "137c22c1-7fc3-48ff-bce1-be64293814db",
   "metadata": {},
   "source": [
    "My first scene is the odd scene named Death, which shows you the simplest kind of scene you can write."
   ]
  },
  {
   "cell_type": "code",
   "execution_count": null,
   "id": "5d3c6032-b5fc-407d-8ccf-66ca0317eb67",
   "metadata": {},
   "outputs": [],
   "source": [
    "class CentralCorridor(Scene):\n",
    "    \n",
    "    def enter(self):\n",
    "        print(dendent(\"\"\"\n",
    "            The Gothons of Planet Percal #25 have invaded your ship and\n",
    "            destroyed your entire crew. You are the last surviving\n",
    "            member and your last mission is to get the neutron destruct\n",
    "            bomb from the Weapons Armory, put it in the bridge, and\n",
    "            blow the ship up after getting into an escape pod.\n",
    "\n",
    "            You're running down the central corridor to the Weapons\n",
    "            Armory when a Gothon jumps out, red scaly skin, dark grimy\n",
    "            teeth, and evil clown costume flowing around his hate\n",
    "            filled body. He's blocking the door to the Armory and\n",
    "            about to pull a weapon to blast you.\n",
    "            \"\"\"))\n",
    "        \n",
    "        action = input(\"> \")\n",
    "        \n",
    "        if action == \"Shoot!\":\n",
    "            print(dendent(\"\"\"\n",
    "                Quick on the draw you yank out your blaster and fire\n",
    "                it at the Gothon. His clown costume is flowing and\n",
    "                moving around his body, which throws off your aim.\n",
    "                Your laser hits his costume but misses him entirely.\n",
    "                This completely ruins his brand new costume his mother\n",
    "                bought him, which makes him fly into an insane rage\n",
    "                and blast you repeatedly in the face until you are\n",
    "                dead. Then he eats you.\n",
    "                \"\"\"))\n",
    "        return 'death'\n",
    "    \n",
    "    elif action == \"dodge!\":\n",
    "        print(dedent(\"\"\"\n",
    "            Like a world class boxer you dodge, weave, slip and\n",
    "            slide right as the Gothon's blaster cranks a laser\n",
    "            past your head. In the middle of your artful dodge\n",
    "            your foot slips and you bang your head on the metal\n",
    "            wall and pass out. You wake up shortly after only to\n",
    "            die as the Gothon stomps on your head and eats you.\n",
    "            \"\"\"))\n",
    "    return 'death'\n",
    "\n",
    "    elif action == \"tell a joke\":\n",
    "        print(dedent(\"\"\"\n",
    "            Lucky for you they made you learn Gothon insults in\n",
    "            the academy. You tell the one Gothon joke you know:\n",
    "            Lbhe zbgure vf fb sng, jura fur fvgf nebhaq gur ubhfr,\n",
    "            fur fvgf nebhaq gur ubhfr. The Gothon stops, tries\n",
    "            not to laugh, then busts out laughing and can't move.\n",
    "            While he's laughing you run up and shoot him square in\n",
    "            the head putting him down, then jump through the\n",
    "            Weapon Armory door.\n",
    "            \"\"\"))\n",
    "    return \"laser_weapon_armory\"\n",
    "\n",
    "    else:\n",
    "        print(\"DOES NOT COMPUTE\")\n",
    "        return 'central_corridor'"
   ]
  },
  {
   "cell_type": "markdown",
   "id": "3408bd14-2648-437c-b1b9-fb0d233fb9f8",
   "metadata": {},
   "source": [
    "After that I’ve created the CentralCorridor, which is the start of the game. I’m doing the scenes for the game before the Map because I need to reference them later. You should also see how I use the dedent function on line 4. Try removing it later to see what it does."
   ]
  },
  {
   "cell_type": "code",
   "execution_count": null,
   "id": "cb4945f8-0c68-4986-ae9f-2ac33a52f137",
   "metadata": {},
   "outputs": [],
   "source": [
    "class LaserWeaponArmory(Scene):\n",
    "    \n",
    "    def enter(self):\n",
    "        print(dedent(\"\"\"\n",
    "            You do a dive roll into the Weapon Armory, crouch and scan\n",
    "            the room for more Gothons that might be hiding. It's dead\n",
    "            quiet, too quiet. You stand up and run to the far side of\n",
    "            the room and find the neutron bomb in its container.\n",
    "            There's a keypad lock on the box and you need the code to\n",
    "            get the bomb out. If you get the code wrong 10 times then\n",
    "            the lock closes forever and you can't get the bomb. The\n",
    "            code is 3 digits.\n",
    "            \"\"\"))\n",
    "        \n",
    "    code = f\"{randint(1,9)}{randint(1,9)}{randint(1,9)}\"\n",
    "    gues = input(\"[keypad]> \")\n",
    "    guesses = 0\n",
    "    \n",
    "    while guess != code and guesses < 10:\n",
    "        print(\"BZZZZEDD!\")\n",
    "        guesses += 1\n",
    "        guess = input(\"[keypad]> \")\n",
    "        \n",
    "    if guess == code:\n",
    "        print(dedent(\"\"\"\n",
    "            The container clicks open and the seal breaks, letting\n",
    "            gas out. You grab the neutron bomb and run as fast as\n",
    "            you can to the bridge where you must place it in the\n",
    "            right spot.\n",
    "            \"\"\"))\n",
    "        return 'the bridge'\n",
    "    else:\n",
    "        print(dedent(\"\"\"\n",
    "            The lock buzzes one last time and then you hear a\n",
    "            sickening melting sound as the mechanism is fused\n",
    "            together. You decide to sit there, and finally the\n",
    "            Gothons blow up the ship from their ship and you die.\n",
    "            \"\"\"))\n",
    "        return 'death'\n",
    "    \n",
    "    \n",
    "    \n",
    "class TheBridge(Scene):\n",
    "    \n",
    "    def enter(self):\n",
    "        print(dedent(\"\"\"\n",
    "            You burst onto the Bridge with the netron destruct bomb\n",
    "            under your arm and surprise 5 Gothons who are trying to\n",
    "            take control of the ship. Each of them has an even uglier\n",
    "            clown costume than the last. They haven't pulled their\n",
    "            weapons out yet, as they see the active bomb under your\n",
    "            arm and don't want to set it off.\n",
    "            \"\"\"))\n",
    "        \n",
    "        action = input(\"> \")\n",
    "        \n",
    "        if action == \"throw the bomb\"\n",
    "            print(dedent(\"\"\"\n",
    "                In a panic you throw the bomb at the group of Gothons\n",
    "                and make a leap for the door. Right as you drop it a\n",
    "                Gothon shoots you right in the back killing you. As\n",
    "                you die you see another Gothon frantically try to\n",
    "                disarm the bomb. You die knowing they will probably\n",
    "                blow up when it goes off.\n",
    "                \"\"\"))\n",
    "            return 'death'\n",
    "        \n",
    "        elif action == \"slowly place the bomb\":\n",
    "            print(dedent(\"\"\"\n",
    "                You point your blaster at the bomb under your arm and\n",
    "                the Gothons put their hands up and start to sweat.\n",
    "                You inch backward to the door, open it, and then\n",
    "                carefully place the bomb on the floor, pointing your\n",
    "                blaster at it. You then jump back through the door,\n",
    "                punch the close button and blast the lock so the\n",
    "                Gothons can't get out. Now that the bomb is placed\n",
    "                you run to the escape pod to get off this tin can.\n",
    "                \"\"\"))\n",
    "            \n",
    "            return 'escape_pod'\n",
    "        else:\n",
    "            print(\"DOES NOT COMPUTE!\")\n",
    "            return \"the_bridge\"\n",
    "        \n",
    "        \n",
    "class EscapePod(Scene):\n",
    "    \n",
    "    def enter(self):\n",
    "        print(dedent(\"\"\"\n",
    "            You rush through the ship desperately trying to make it to\n",
    "            the escape pod before the whole ship explodes. It seems\n",
    "            like hardly any Gothons are on the ship, so your run is\n",
    "            clear of interference. You get to the chamber with the\n",
    "            escape pods, and now need to pick one to take. Some of\n",
    "            them could be damaged but you don't have time to look.\n",
    "            There's 5 pods, which one do you take?\n",
    "            \"\"\"))\n",
    "        \n",
    "        good_pod = randint(1,9)\n",
    "        guess = input(\"[pod #]> \")\n",
    "        \n",
    "        \n",
    "        if int(guess) != good_pod:\n",
    "            print(dedent(f\"\"\"\n",
    "                You jump into pod {guess} and hit the eject button.\n",
    "                The pod escapes out into the void of space, then \n",
    "                implodes as the hull ruptures, crushing your body into\n",
    "                jam jelly\n",
    "                \"\"\"))\n",
    "            return 'death'\n",
    "        else:\n",
    "            print(dedent(f\"\"\"\n",
    "                You jump into pod {guess} and hit the eject button.\n",
    "                The pod easily slides out into space heading to the\n",
    "                planet below. As it flies to the planet, you look\n",
    "                back and see your ship implode then explode like a\n",
    "                bright star, taking out the Gotham ship at the same\n",
    "                time. You won!\n",
    "                \"\"\"))\n",
    "            \n",
    "            return 'finished'\n",
    "        \n",
    "class Finished(Scene):\n",
    "    \n",
    "    def enter(self):\n",
    "        print(\"You won! Good job.\")\n",
    "        return 'finsihed'"
   ]
  },
  {
   "cell_type": "markdown",
   "id": "d3c899ea-34ce-492e-8fab-5c0cd41390fb",
   "metadata": {},
   "source": [
    "This is the rest of the game’s scenes, and since I know I need them and have thought about how they’ll flow together I’m able to code them up directly.\n",
    "Incidentally, I wouldn’t just type all this code in. Remember I said to try and build this incrementally, one little bit at a time. I’m just showing you the final result."
   ]
  },
  {
   "cell_type": "code",
   "execution_count": null,
   "id": "cb1ea4d1-c4d2-4490-8388-417167813177",
   "metadata": {},
   "outputs": [],
   "source": [
    "class Map(object):\n",
    "    \n",
    "    scenes = {\n",
    "        'centraal_corridor': CentralCorridor(),\n",
    "        'laser_weapon_armory': LaserWeaponArmory(),\n",
    "        'the_bridge': TheBridge(),\n",
    "        'escape_pod': EscapePod(),\n",
    "        'death': Desth(),\n",
    "        'finished': Finished()\n",
    "    }\n",
    "    \n",
    "    def __init_)_(self, start_scene):\n",
    "        self.start_scene = start_scene\n",
    "        \n",
    "    def next_scene(self, scene_name):\n",
    "        val = Map.scene.Get(scene_name)\n",
    "        return val\n",
    "    \n",
    "    def opening_scene(self):\n",
    "        return self.next_scene(self_scene)"
   ]
  },
  {
   "cell_type": "markdown",
   "id": "d1e630c9-cb0e-42cf-809a-66bdd1de8359",
   "metadata": {},
   "source": [
    "After that I have my Map class, and you can see it is storing each scene by name in a dictionary, and then I refer to that dict with Map.scenes. This is also why the map comes after the scenes because the dictionary has to refer to the scenes, so they have to exist."
   ]
  },
  {
   "cell_type": "code",
   "execution_count": null,
   "id": "88c9dbcb-1581-438a-b1a5-bbcd7bbad144",
   "metadata": {},
   "outputs": [],
   "source": [
    "a_map = Map('central_corridor')\n",
    "a_game = Engine(a_map)\n",
    "a_game.play()"
   ]
  },
  {
   "cell_type": "markdown",
   "id": "99ef214f-5892-4f1d-a15e-3c074c7e8123",
   "metadata": {},
   "source": [
    "Finally I’ve got my code that runs the game by making a Map, then handing that map to an Engine before calling play to make the game work."
   ]
  }
 ],
 "metadata": {
  "kernelspec": {
   "display_name": "Python 3 (ipykernel)",
   "language": "python",
   "name": "python3"
  },
  "language_info": {
   "codemirror_mode": {
    "name": "ipython",
    "version": 3
   },
   "file_extension": ".py",
   "mimetype": "text/x-python",
   "name": "python",
   "nbconvert_exporter": "python",
   "pygments_lexer": "ipython3",
   "version": "3.9.7"
  }
 },
 "nbformat": 4,
 "nbformat_minor": 5
}
